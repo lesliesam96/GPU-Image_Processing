{
  "cells": [
    {
      "cell_type": "code",
      "execution_count": 1,
      "metadata": {
        "colab": {
          "base_uri": "https://localhost:8080/"
        },
        "id": "EMEpNoGeOIS4",
        "outputId": "fc8bd872-0435-492a-81d8-791cadac842a"
      },
      "outputs": [
        {
          "output_type": "stream",
          "name": "stdout",
          "text": [
            "Writing CMakeLists.txt\n"
          ]
        }
      ],
      "source": [
        "%%writefile CMakeLists.txt\n",
        "cmake_minimum_required(VERSION 3.5)\n",
        "project(CudaOpenCVProject LANGUAGES CXX CUDA)\n",
        "\n",
        "# Find OpenCV\n",
        "find_package (OpenCV 4.0.0 REQUIRED)\n",
        "include_directories (\"/usr/include/opencv4/\")\n",
        "\n",
        "# Set CUDA architecture (change according to your GPU architecture)\n",
        "set(CMAKE_CUDA_FLAGS ${CMAKE_CUDA_FLAGS} -arch=sm_75)\n",
        "\n",
        "# Specify include directories\n",
        "include_directories(${OpenCV_INCLUDE_DIRS})\n",
        "\n",
        "# Add CUDA executable with explicitly specifying source file\n",
        "add_executable(CudaImage CudaImage.cu)\n",
        "\n",
        "# Set CUDA architectures property for the target (replace with your GPU's compute capability)\n",
        "set_target_properties(CudaImage PROPERTIES CUDA_ARCHITECTURES 75)\n",
        "\n",
        "# Link OpenCV libraries\n",
        "target_link_libraries(CudaImage ${OpenCV_LIBS})"
      ]
    },
    {
      "cell_type": "code",
      "execution_count": 2,
      "metadata": {
        "colab": {
          "base_uri": "https://localhost:8080/"
        },
        "id": "_Qas0wBeO2Cv",
        "outputId": "f913d37b-6a42-4388-a120-e67df468e951"
      },
      "outputs": [
        {
          "output_type": "stream",
          "name": "stdout",
          "text": [
            "Overwriting CudaImage.cu\n"
          ]
        }
      ],
      "source": [
        "%%writefile CudaImage.cu\n",
        "#include </usr/include/opencv4/opencv2/opencv.hpp>\n",
        "#include <iostream>\n",
        "#include <chrono>\n",
        "#include <filesystem>\n",
        "#include <boost/filesystem.hpp>\n",
        "\n",
        "\n",
        "int main() {\n",
        "    // Image Path\n",
        "    std::string imagePath = \"/content/SampleImage.jpeg\"; // Replace with your uploaded image path\n",
        "    cv::Mat image = cv::imread(imagePath, cv::IMREAD_GRAYSCALE);\n",
        "    if (image.empty()) {\n",
        "        std::cerr << \"OpenCV version: \" << CV_VERSION << std::endl;\n",
        "        std::cerr << \"Image load failed!\" << std::endl;\n",
        "        return -1;\n",
        "    }\n",
        "\n",
        "    cv::Mat blurredImageCPU(image.size(), image.type());\n",
        "\n",
        "    // CPU Gaussian Blur\n",
        "    auto startCPU = std::chrono::high_resolution_clock::now();\n",
        "    cv::GaussianBlur(image, blurredImageCPU, cv::Size(3, 3), 3.0);\n",
        "    auto endCPU = std::chrono::high_resolution_clock::now();\n",
        "\n",
        "    // Calculate execution times\n",
        "    auto cpuDuration = std::chrono::duration<double, std::milli>(endCPU - startCPU).count();\n",
        "    std::cout << \"CPU Time: \" << cpuDuration << \" ms\" << std::endl;\n",
        "\n",
        "    // Get the extension of the input image\n",
        "    std::filesystem::path p(imagePath);\n",
        "    std::string extension = imagePath.substr(imagePath.find_last_of(\".\"));\n",
        "\n",
        "    // Save ONLY blurred images\n",
        "    cv::imwrite(\"/content/cpu_blurred_image\" + extension, blurredImageCPU);\n",
        "\n",
        "    // Display confirmation message\n",
        "    std::cout << \"Blurred image saved as: \\n\"\n",
        "              << \" - cpu_blurred_image\" + extension + \"\\n\";\n",
        "\n",
        "    return 0;\n",
        "}\n"
      ]
    },
    {
      "cell_type": "code",
      "execution_count": 3,
      "metadata": {
        "colab": {
          "base_uri": "https://localhost:8080/"
        },
        "id": "CmKJOhRtPFtG",
        "outputId": "b117ac18-5e2f-4c1e-9b54-ecd242da147e"
      },
      "outputs": [
        {
          "output_type": "stream",
          "name": "stdout",
          "text": [
            "-- The CXX compiler identification is GNU 11.4.0\n",
            "-- The CUDA compiler identification is NVIDIA 12.2.140\n",
            "-- Detecting CXX compiler ABI info\n",
            "-- Detecting CXX compiler ABI info - done\n",
            "-- Check for working CXX compiler: /usr/bin/c++ - skipped\n",
            "-- Detecting CXX compile features\n",
            "-- Detecting CXX compile features - done\n",
            "-- Detecting CUDA compiler ABI info\n",
            "-- Detecting CUDA compiler ABI info - done\n",
            "-- Check for working CUDA compiler: /usr/local/cuda/bin/nvcc - skipped\n",
            "-- Detecting CUDA compile features\n",
            "-- Detecting CUDA compile features - done\n",
            "-- Found OpenCV: /usr (found suitable version \"4.5.4\", minimum required is \"4.0.0\") \n",
            "-- Configuring done (4.5s)\n",
            "-- Generating done (0.0s)\n",
            "-- Build files have been written to: /content\n"
          ]
        }
      ],
      "source": [
        "!cmake .\n",
        "!make ."
      ]
    },
    {
      "cell_type": "code",
      "source": [
        "!nvcc `pkg-config --cflags --libs opencv4` CudaImage.cu -o CudaImage -I/usr/include/opencv4"
      ],
      "metadata": {
        "colab": {
          "base_uri": "https://localhost:8080/"
        },
        "id": "kzIUkbRdaG20",
        "outputId": "cf2d939c-4e6f-47b9-f0d1-a1b8933d22ef"
      },
      "execution_count": 4,
      "outputs": [
        {
          "output_type": "stream",
          "name": "stdout",
          "text": [
            "\u001b[01m\u001b[0m\u001b[01m/usr/include/opencv4/opencv2/stitching/detail/warpers.hpp(235)\u001b[0m: \u001b[01;35mwarning\u001b[0m #611-D: overloaded virtual function \u001b[01m\"cv::detail::PlaneWarper::buildMaps\"\u001b[0m is only partially overridden in class \u001b[01m\"cv::detail::AffineWarper\"\u001b[0m\n",
            "  class AffineWarper : public PlaneWarper\n",
            "        ^\n",
            "\n",
            "\u001b[01;36m\u001b[0m\u001b[01;36mRemark\u001b[0m: The warnings can be suppressed with \"-diag-suppress <warning-number>\"\n",
            "\n",
            "\u001b[01m\u001b[0m\u001b[01m/usr/include/opencv4/opencv2/stitching/detail/warpers.hpp(235)\u001b[0m: \u001b[01;35mwarning\u001b[0m #611-D: overloaded virtual function \u001b[01m\"cv::detail::PlaneWarper::warp\"\u001b[0m is only partially overridden in class \u001b[01m\"cv::detail::AffineWarper\"\u001b[0m\n",
            "  class AffineWarper : public PlaneWarper\n",
            "        ^\n",
            "\n",
            "\u001b[01m\u001b[0m\u001b[01m/usr/include/opencv4/opencv2/stitching/detail/blenders.hpp(100)\u001b[0m: \u001b[01;35mwarning\u001b[0m #611-D: overloaded virtual function \u001b[01m\"cv::detail::Blender::prepare\"\u001b[0m is only partially overridden in class \u001b[01m\"cv::detail::FeatherBlender\"\u001b[0m\n",
            "  class FeatherBlender : public Blender\n",
            "        ^\n",
            "\n",
            "\u001b[01m\u001b[0m\u001b[01m/usr/include/opencv4/opencv2/stitching/detail/blenders.hpp(127)\u001b[0m: \u001b[01;35mwarning\u001b[0m #611-D: overloaded virtual function \u001b[01m\"cv::detail::Blender::prepare\"\u001b[0m is only partially overridden in class \u001b[01m\"cv::detail::MultiBandBlender\"\u001b[0m\n",
            "  class MultiBandBlender : public Blender\n",
            "        ^\n",
            "\n",
            "\u001b[01m\u001b[0m\u001b[01m/usr/include/opencv4/opencv2/stitching/detail/warpers.hpp(235)\u001b[0m: \u001b[01;35mwarning\u001b[0m #611-D: overloaded virtual function \u001b[01m\"cv::detail::PlaneWarper::buildMaps\"\u001b[0m is only partially overridden in class \u001b[01m\"cv::detail::AffineWarper\"\u001b[0m\n",
            "  class AffineWarper : public PlaneWarper\n",
            "        ^\n",
            "\n",
            "\u001b[01;36m\u001b[0m\u001b[01;36mRemark\u001b[0m: The warnings can be suppressed with \"-diag-suppress <warning-number>\"\n",
            "\n",
            "\u001b[01m\u001b[0m\u001b[01m/usr/include/opencv4/opencv2/stitching/detail/warpers.hpp(235)\u001b[0m: \u001b[01;35mwarning\u001b[0m #611-D: overloaded virtual function \u001b[01m\"cv::detail::PlaneWarper::warp\"\u001b[0m is only partially overridden in class \u001b[01m\"cv::detail::AffineWarper\"\u001b[0m\n",
            "  class AffineWarper : public PlaneWarper\n",
            "        ^\n",
            "\n",
            "\u001b[01m\u001b[0m\u001b[01m/usr/include/opencv4/opencv2/stitching/detail/blenders.hpp(100)\u001b[0m: \u001b[01;35mwarning\u001b[0m #611-D: overloaded virtual function \u001b[01m\"cv::detail::Blender::prepare\"\u001b[0m is only partially overridden in class \u001b[01m\"cv::detail::FeatherBlender\"\u001b[0m\n",
            "  class FeatherBlender : public Blender\n",
            "        ^\n",
            "\n",
            "\u001b[01m\u001b[0m\u001b[01m/usr/include/opencv4/opencv2/stitching/detail/blenders.hpp(127)\u001b[0m: \u001b[01;35mwarning\u001b[0m #611-D: overloaded virtual function \u001b[01m\"cv::detail::Blender::prepare\"\u001b[0m is only partially overridden in class \u001b[01m\"cv::detail::MultiBandBlender\"\u001b[0m\n",
            "  class MultiBandBlender : public Blender\n",
            "        ^\n",
            "\n"
          ]
        }
      ]
    },
    {
      "cell_type": "code",
      "execution_count": 5,
      "metadata": {
        "colab": {
          "base_uri": "https://localhost:8080/"
        },
        "id": "ZVxIbckpPsZu",
        "outputId": "66f6053a-2b0a-48b6-cece-e309a306c5de"
      },
      "outputs": [
        {
          "output_type": "stream",
          "name": "stdout",
          "text": [
            "CPU Time: 30.636 ms\n",
            "Blurred image saved as: \n",
            " - cpu_blurred_image.jpeg\n"
          ]
        }
      ],
      "source": [
        "!./CudaImage"
      ]
    }
  ],
  "metadata": {
    "colab": {
      "provenance": []
    },
    "kernelspec": {
      "display_name": "Python 3",
      "name": "python3"
    },
    "language_info": {
      "codemirror_mode": {
        "name": "ipython",
        "version": 3
      },
      "file_extension": ".py",
      "mimetype": "text/x-python",
      "name": "python",
      "nbconvert_exporter": "python",
      "pygments_lexer": "ipython3",
      "version": "3.10.12"
    }
  },
  "nbformat": 4,
  "nbformat_minor": 0
}