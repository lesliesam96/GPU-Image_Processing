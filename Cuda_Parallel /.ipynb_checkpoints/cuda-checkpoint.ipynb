{
 "cells": [
  {
   "cell_type": "code",
   "execution_count": 27,
   "metadata": {
    "colab": {
     "base_uri": "https://localhost:8080/"
    },
    "id": "EMEpNoGeOIS4",
    "outputId": "4cfae165-11ac-4c3f-c4df-112f8f30a373"
   },
   "outputs": [
    {
     "name": "stdout",
     "output_type": "stream",
     "text": [
      "Overwriting CMakeLists.txt\n"
     ]
    }
   ],
   "source": [
    "%%writefile CMakeLists.txt\n",
    "cmake_minimum_required(VERSION 3.5)\n",
    "project(CudaOpenCVProject LANGUAGES CXX CUDA)\n",
    "\n",
    "# Find OpenCV\n",
    "find_package(OpenCV REQUIRED)\n",
    "\n",
    "# Set CUDA architecture (change according to your GPU architecture)\n",
    "set(CMAKE_CUDA_FLAGS ${CMAKE_CUDA_FLAGS} -arch=sm_75)\n",
    "\n",
    "# Specify include directories\n",
    "include_directories(${OpenCV_INCLUDE_DIRS})\n",
    "\n",
    "# Add CUDA executable with explicitly specifying source file\n",
    "add_executable(CudaImage CudaImage.cu)\n",
    "\n",
    "# Set CUDA architectures property for the target (replace with your GPU's compute capability)\n",
    "set_target_properties(CudaImage PROPERTIES CUDA_ARCHITECTURES 75)\n",
    "\n",
    "# Link OpenCV libraries\n",
    "target_link_libraries(CudaImage ${OpenCV_LIBS})"
   ]
  },
  {
   "cell_type": "code",
   "execution_count": 28,
   "metadata": {
    "colab": {
     "base_uri": "https://localhost:8080/"
    },
    "id": "_Qas0wBeO2Cv",
    "outputId": "ba1b634e-c9a0-4a1d-fd4b-16cab0933fcc"
   },
   "outputs": [
    {
     "name": "stdout",
     "output_type": "stream",
     "text": [
      "Overwriting CudaImage.cu\n"
     ]
    }
   ],
   "source": [
    "%%writefile CudaImage.cu\n",
    "#include <iostream>\n",
    "#include <chrono>\n",
    "#include <opencv2/opencv.hpp>\n",
    "#include <cuda_runtime.h>\n",
    "#include <cmath>\n",
    "\n",
    "// Kernel to calculate Gaussian weights\n",
    "__device__ float gaussianWeight(float x, float y, float sigma) {\n",
    "    float sigma2 = 2.0f * sigma * sigma;\n",
    "    float t = (x * x + y * y) / sigma2;\n",
    "    return exp(-t) / (M_PI * sigma2);\n",
    "}\n",
    "\n",
    "// CUDA kernel for Gaussian blur\n",
    "__global__ void gaussianBlurCUDA(const unsigned char* input, unsigned char* output,\n",
    "                                 int width, int height, float sigma) {\n",
    "    int x = blockIdx.x * blockDim.x + threadIdx.x;\n",
    "    int y = blockIdx.y * blockDim.y + threadIdx.y;\n",
    "\n",
    "    if (x < width && y < height) {\n",
    "        float sum = 0.0f;\n",
    "        float totalWeight = 0.0f;\n",
    "\n",
    "        // Sample 3x3 neighborhood for simplicity... you can increase the kernel size\n",
    "        for (int dy = -1; dy <= 1; dy++) {\n",
    "            for (int dx = -1; dx <= 1; dx++) {\n",
    "                int pixelX = x + dx;\n",
    "                int pixelY = y + dy;\n",
    "\n",
    "                if (pixelX >= 0 && pixelX < width && pixelY >= 0 && pixelY < height) {\n",
    "                    float weight = gaussianWeight(dx, dy, sigma);\n",
    "                    sum += input[pixelY * width + pixelX] * weight;\n",
    "                    totalWeight += weight;\n",
    "                }\n",
    "            }\n",
    "        }\n",
    "        // Normalize and cast to unsigned char before assigning to output\n",
    "        output[y * width + x] = (unsigned char)((sum / totalWeight) + 0.5f);  // Add 0.5 for rounding\n",
    "    }\n",
    "}\n",
    "\n",
    "int main() {\n",
    "    // Image Path\n",
    "    std::string imagePath = \"/content/SampleImage.jpg\"; // Replace with your uploaded image path\n",
    "    cv::Mat image = cv::imread(imagePath, cv::IMREAD_GRAYSCALE);\n",
    "    if (image.empty()) {\n",
    "        std::cerr << \"OpenCV version: \" << CV_VERSION << std::endl;\n",
    "        std::cerr << \"Image load failed!\" << std::endl;\n",
    "        return -1;\n",
    "    }\n",
    "\n",
    "    cv::Mat blurredImageCPU(image.size(), image.type());\n",
    "    cv::Mat blurredImageGPU(image.size(), image.type());\n",
    "\n",
    "    // CPU Gaussian Blur (for timing comparison)\n",
    "    auto startCPU = std::chrono::high_resolution_clock::now();\n",
    "    cv::GaussianBlur(image, blurredImageGPU, cv::Size(3, 3), 3.0);\n",
    "    auto endCPU = std::chrono::high_resolution_clock::now();\n",
    "\n",
    "    // Allocate device memory\n",
    "    unsigned char *d_input, *d_output;\n",
    "    cudaMalloc(&d_input, image.total());\n",
    "    cudaMalloc(&d_output, image.total());\n",
    "\n",
    "    // Copy input image to device\n",
    "    cudaMemcpy(d_input, image.data, image.total(), cudaMemcpyHostToDevice);\n",
    "\n",
    "    // Kernel launch configuration\n",
    "    dim3 blockSize(16, 16);  // 2D block\n",
    "    dim3 gridSize((image.cols + blockSize.x - 1) / blockSize.x,\n",
    "                  (image.rows + blockSize.y - 1) / blockSize.y);  // 2D grid\n",
    "\n",
    "    // CUDA Gaussian Blur\n",
    "    auto startGPU = std::chrono::high_resolution_clock::now();\n",
    "    gaussianBlurCUDA<<<gridSize, blockSize>>>(d_input, d_output, image.cols, image.rows, 3.0);\n",
    "    cudaDeviceSynchronize();\n",
    "    auto endGPU = std::chrono::high_resolution_clock::now();\n",
    "\n",
    "    // Copy result back to host for CPU\n",
    "    cv::Mat blurredImageHost(image.size(), image.type());\n",
    "    cudaMemcpy(blurredImageHost.data, d_output, image.total(), cudaMemcpyDeviceToHost);\n",
    "\n",
    "    // Calculate execution times\n",
    "    auto cpuDuration = std::chrono::duration<double, std::milli>(endCPU - startCPU).count();\n",
    "    auto gpuDuration = std::chrono::duration<double, std::milli>(endGPU - startGPU).count();\n",
    "\n",
    "    std::cout << \"CPU Time: \" << cpuDuration << \" ms\" << std::endl;\n",
    "    std::cout << \"GPU Time: \" << gpuDuration << \" ms\" << std::endl;\n",
    "\n",
    "    // Save ONLY blurred images\n",
    "    cv::imwrite(\"/content/cpu_blurred_image.jpg\", blurredImageHost);\n",
    "    cv::imwrite(\"/content/gpu_blurred_image.jpg\", blurredImageGPU);\n",
    "\n",
    "    // Display confirmation message\n",
    "    std::cout << \"Blurred images saved as: \\n\"\n",
    "              << \" - cpu_blurred_image.jpg\\n\"\n",
    "              << \" - gpu_blurred_image.jpg\\n\";\n",
    "\n",
    "    // Release memory\n",
    "    cudaFree(d_input);\n",
    "    cudaFree(d_output);\n",
    "\n",
    "    return 0;\n",
    "}"
   ]
  },
  {
   "cell_type": "code",
   "execution_count": 29,
   "metadata": {
    "colab": {
     "base_uri": "https://localhost:8080/"
    },
    "id": "CmKJOhRtPFtG",
    "outputId": "72170cb9-4800-43f6-ba7b-8e9fbe636527"
   },
   "outputs": [
    {
     "name": "stdout",
     "output_type": "stream",
     "text": [
      "Usage\n",
      "\n",
      "  cmake [options] <path-to-source>\n",
      "  cmake [options] <path-to-existing-build>\n",
      "  cmake [options] -S <path-to-source> -B <path-to-build>\n",
      "\n",
      "Specify a source directory to (re-)generate a build system for it in the\n",
      "current working directory.  Specify an existing build directory to\n",
      "re-generate its build system.\n",
      "\n",
      "Run 'cmake --help' for more information.\n",
      "\n",
      "[100%] Built target CudaImage\n"
     ]
    }
   ],
   "source": [
    "!cmake\n",
    "!make"
   ]
  },
  {
   "cell_type": "code",
   "execution_count": 30,
   "metadata": {
    "colab": {
     "base_uri": "https://localhost:8080/"
    },
    "id": "ZVxIbckpPsZu",
    "outputId": "e34a8e4a-0386-44e0-ba90-ce9872ba347f"
   },
   "outputs": [
    {
     "name": "stdout",
     "output_type": "stream",
     "text": [
      "GPU Time: 15.6175 ms\n",
      "CPU Time: 43.9053 ms\n",
      "Blurred images saved as: \n",
      " - cpu_blurred_image.jpg\n",
      " - gpu_blurred_image.jpg\n"
     ]
    }
   ],
   "source": [
    "!./CudaImage"
   ]
  }
 ],
 "metadata": {
  "accelerator": "GPU",
  "colab": {
   "gpuType": "T4",
   "provenance": []
  },
  "kernelspec": {
   "display_name": "Python 3 (ipykernel)",
   "language": "python",
   "name": "python3"
  },
  "language_info": {
   "codemirror_mode": {
    "name": "ipython",
    "version": 3
   },
   "file_extension": ".py",
   "mimetype": "text/x-python",
   "name": "python",
   "nbconvert_exporter": "python",
   "pygments_lexer": "ipython3",
   "version": "3.10.12"
  }
 },
 "nbformat": 4,
 "nbformat_minor": 4
}
