{
  "cells": [
    {
      "cell_type": "code",
      "execution_count": 8,
      "metadata": {
        "colab": {
          "base_uri": "https://localhost:8080/"
        },
        "id": "EMEpNoGeOIS4",
        "outputId": "f1217193-f2bf-42b2-96c8-154b695ddfae"
      },
      "outputs": [
        {
          "output_type": "stream",
          "name": "stdout",
          "text": [
            "Overwriting CMakeLists.txt\n"
          ]
        }
      ],
      "source": [
        "%%writefile CMakeLists.txt\n",
        "cmake_minimum_required(VERSION 3.5)\n",
        "project(CudaOpenCVProject LANGUAGES CXX CUDA)\n",
        "\n",
        "# Find OpenCV\n",
        "find_package (OpenCV 4.0.0 REQUIRED)\n",
        "include_directories (\"/usr/include/opencv4/\")\n",
        "\n",
        "# Set CUDA architecture (change according to your GPU architecture)\n",
        "set(CMAKE_CUDA_FLAGS ${CMAKE_CUDA_FLAGS} -arch=sm_75)\n",
        "\n",
        "# Specify include directories\n",
        "include_directories(${OpenCV_INCLUDE_DIRS})\n",
        "\n",
        "# Add CUDA executable with explicitly specifying source file\n",
        "add_executable(CudaImage CudaImage.cu)\n",
        "\n",
        "# Set CUDA architectures property for the target (replace with your GPU's compute capability)\n",
        "set_target_properties(CudaImage PROPERTIES CUDA_ARCHITECTURES 75)\n",
        "\n",
        "# Link OpenCV libraries\n",
        "target_link_libraries(CudaImage ${OpenCV_LIBS})"
      ]
    },
    {
      "cell_type": "code",
      "execution_count": 9,
      "metadata": {
        "colab": {
          "base_uri": "https://localhost:8080/"
        },
        "id": "_Qas0wBeO2Cv",
        "outputId": "d746c468-cbef-4c29-da3a-d875617eb3e8"
      },
      "outputs": [
        {
          "output_type": "stream",
          "name": "stdout",
          "text": [
            "Overwriting CudaImage.cu\n"
          ]
        }
      ],
      "source": [
        "%%writefile CudaImage.cu\n",
        "#include <iostream>\n",
        "#include <chrono>\n",
        "#include </usr/include/opencv4/opencv2/opencv.hpp>\n",
        "#include <cuda_runtime.h>\n",
        "#include <cmath>\n",
        "#include <boost/filesystem.hpp>\n",
        "\n",
        "\n",
        "// Kernel to calculate Gaussian weights\n",
        "__device__ float gaussianWeight(float x, float y, float sigma) {\n",
        "    float sigma2 = 2.0f * sigma * sigma;\n",
        "    float t = (x * x + y * y) / sigma2;\n",
        "    return exp(-t) / (M_PI * sigma2);\n",
        "}\n",
        "\n",
        "// CUDA kernel for Gaussian blur\n",
        "__global__ void gaussianBlurCUDA(const unsigned char* input, unsigned char* output,\n",
        "                                 int width, int height, float sigma) {\n",
        "    int x = blockIdx.x * blockDim.x + threadIdx.x;\n",
        "    int y = blockIdx.y * blockDim.y + threadIdx.y;\n",
        "\n",
        "    if (x < width && y < height) {\n",
        "        float sum = 0.0f;\n",
        "        float totalWeight = 0.0f;\n",
        "\n",
        "        // Sample 3x3 neighborhood for simplicity... you can increase the kernel size\n",
        "        for (int dy = -1; dy <= 1; dy++) {\n",
        "            for (int dx = -1; dx <= 1; dx++) {\n",
        "                int pixelX = x + dx;\n",
        "                int pixelY = y + dy;\n",
        "\n",
        "                if (pixelX >= 0 && pixelX < width && pixelY >= 0 && pixelY < height) {\n",
        "                    float weight = gaussianWeight(dx, dy, sigma);\n",
        "                    sum += input[pixelY * width + pixelX] * weight;\n",
        "                    totalWeight += weight;\n",
        "                }\n",
        "            }\n",
        "        }\n",
        "        // Normalize and cast to unsigned char before assigning to output\n",
        "        output[y * width + x] = (unsigned char)((sum / totalWeight) + 0.5f);  // Add 0.5 for rounding\n",
        "    }\n",
        "}\n",
        "\n",
        "int main() {\n",
        "    // Image Path\n",
        "    std::string imagePath = \"/content/SampleImage.jpeg\"; // Replace with your uploaded image path\n",
        "    cv::Mat image = cv::imread(imagePath, cv::IMREAD_GRAYSCALE);\n",
        "    if (image.empty()) {\n",
        "        std::cerr << \"OpenCV version: \" << CV_VERSION << std::endl;\n",
        "        std::cerr << \"Image load failed!\" << std::endl;\n",
        "        return -1;\n",
        "    }\n",
        "\n",
        "    cv::Mat blurredImageGPU(image.size(), image.type());\n",
        "\n",
        "    // Allocate device memory\n",
        "    unsigned char *d_input, *d_output;\n",
        "    cudaError_t err = cudaMalloc(&d_input, image.total());\n",
        "    if (err != cudaSuccess) {\n",
        "        std::cerr << \"Failed to allocate device memory - \" << cudaGetErrorString(err);\n",
        "        return -1;\n",
        "    }\n",
        "    err = cudaMalloc(&d_output, image.total());\n",
        "    if (err != cudaSuccess) {\n",
        "        std::cerr << \"Failed to allocate device memory - \" << cudaGetErrorString(err);\n",
        "        return -1;\n",
        "    }\n",
        "\n",
        "    // Copy input image to device\n",
        "    err = cudaMemcpy(d_input, image.data, image.total(), cudaMemcpyHostToDevice);\n",
        "    if (err != cudaSuccess) {\n",
        "        std::cerr << \"Failed to copy data from host to device - \" << cudaGetErrorString(err);\n",
        "        return -1;\n",
        "    }\n",
        "\n",
        "    // Kernel launch configuration\n",
        "    dim3 blockSize(16, 16);  // 2D block\n",
        "    dim3 gridSize((image.cols + blockSize.x - 1) / blockSize.x,\n",
        "                  (image.rows + blockSize.y - 1) / blockSize.y);  // 2D grid\n",
        "\n",
        "    // CUDA Gaussian Blur\n",
        "    auto startGPU = std::chrono::high_resolution_clock::now();\n",
        "    gaussianBlurCUDA<<<gridSize, blockSize>>>(d_input, d_output, image.cols, image.rows, 3.0);\n",
        "    cudaDeviceSynchronize();\n",
        "    auto endGPU = std::chrono::high_resolution_clock::now();\n",
        "\n",
        "    // Calculate execution times\n",
        "    auto gpuDuration = std::chrono::duration<double, std::milli>(endGPU - startGPU).count();\n",
        "    std::cout << \"GPU Time: \" << gpuDuration << \" ms\" << std::endl;\n",
        "\n",
        "    // Copy output image back to host\n",
        "    cudaMemcpy(blurredImageGPU.data, d_output, image.total(), cudaMemcpyDeviceToHost);\n",
        "\n",
        "    // Get the extension of the input image\n",
        "    boost::filesystem::path p(imagePath);\n",
        "    std::string extension = imagePath.substr(imagePath.find_last_of(\".\"));\n",
        "\n",
        "    // Save ONLY blurred images\n",
        "    cv::imwrite(\"/content/gpu_blurred_image\" + extension, blurredImageGPU);\n",
        "\n",
        "    // Display confirmation message\n",
        "    std::cout << \"Blurred image saved as: \\n\"\n",
        "              << \" - gpu_blurred_image\" + extension + \"\\n\";\n",
        "\n",
        "    // Release memory\n",
        "    cudaFree(d_input);\n",
        "    cudaFree(d_output);\n",
        "\n",
        "    return 0;\n",
        "}"
      ]
    },
    {
      "cell_type": "code",
      "execution_count": 10,
      "metadata": {
        "colab": {
          "base_uri": "https://localhost:8080/"
        },
        "id": "CmKJOhRtPFtG",
        "outputId": "bdf6fba2-e1b4-400b-cf28-cc679c69ca9d"
      },
      "outputs": [
        {
          "output_type": "stream",
          "name": "stdout",
          "text": [
            "-- Configuring done (0.0s)\n",
            "-- Generating done (0.0s)\n",
            "-- Build files have been written to: /content\n"
          ]
        }
      ],
      "source": [
        "!cmake .\n",
        "!make ."
      ]
    },
    {
      "cell_type": "code",
      "execution_count": 11,
      "metadata": {
        "colab": {
          "base_uri": "https://localhost:8080/"
        },
        "id": "kzIUkbRdaG20",
        "outputId": "d73d3451-4af6-4da6-d55f-da2bfba91f74"
      },
      "outputs": [
        {
          "output_type": "stream",
          "name": "stdout",
          "text": [
            "\u001b[01m\u001b[0m\u001b[01m/usr/include/opencv4/opencv2/stitching/detail/warpers.hpp(235)\u001b[0m: \u001b[01;35mwarning\u001b[0m #611-D: overloaded virtual function \u001b[01m\"cv::detail::PlaneWarper::buildMaps\"\u001b[0m is only partially overridden in class \u001b[01m\"cv::detail::AffineWarper\"\u001b[0m\n",
            "  class AffineWarper : public PlaneWarper\n",
            "        ^\n",
            "\n",
            "\u001b[01;36m\u001b[0m\u001b[01;36mRemark\u001b[0m: The warnings can be suppressed with \"-diag-suppress <warning-number>\"\n",
            "\n",
            "\u001b[01m\u001b[0m\u001b[01m/usr/include/opencv4/opencv2/stitching/detail/warpers.hpp(235)\u001b[0m: \u001b[01;35mwarning\u001b[0m #611-D: overloaded virtual function \u001b[01m\"cv::detail::PlaneWarper::warp\"\u001b[0m is only partially overridden in class \u001b[01m\"cv::detail::AffineWarper\"\u001b[0m\n",
            "  class AffineWarper : public PlaneWarper\n",
            "        ^\n",
            "\n",
            "\u001b[01m\u001b[0m\u001b[01m/usr/include/opencv4/opencv2/stitching/detail/blenders.hpp(100)\u001b[0m: \u001b[01;35mwarning\u001b[0m #611-D: overloaded virtual function \u001b[01m\"cv::detail::Blender::prepare\"\u001b[0m is only partially overridden in class \u001b[01m\"cv::detail::FeatherBlender\"\u001b[0m\n",
            "  class FeatherBlender : public Blender\n",
            "        ^\n",
            "\n",
            "\u001b[01m\u001b[0m\u001b[01m/usr/include/opencv4/opencv2/stitching/detail/blenders.hpp(127)\u001b[0m: \u001b[01;35mwarning\u001b[0m #611-D: overloaded virtual function \u001b[01m\"cv::detail::Blender::prepare\"\u001b[0m is only partially overridden in class \u001b[01m\"cv::detail::MultiBandBlender\"\u001b[0m\n",
            "  class MultiBandBlender : public Blender\n",
            "        ^\n",
            "\n",
            "\u001b[01m\u001b[0m\u001b[01m/usr/include/opencv4/opencv2/stitching/detail/warpers.hpp(235)\u001b[0m: \u001b[01;35mwarning\u001b[0m #611-D: overloaded virtual function \u001b[01m\"cv::detail::PlaneWarper::buildMaps\"\u001b[0m is only partially overridden in class \u001b[01m\"cv::detail::AffineWarper\"\u001b[0m\n",
            "  class AffineWarper : public PlaneWarper\n",
            "        ^\n",
            "\n",
            "\u001b[01;36m\u001b[0m\u001b[01;36mRemark\u001b[0m: The warnings can be suppressed with \"-diag-suppress <warning-number>\"\n",
            "\n",
            "\u001b[01m\u001b[0m\u001b[01m/usr/include/opencv4/opencv2/stitching/detail/warpers.hpp(235)\u001b[0m: \u001b[01;35mwarning\u001b[0m #611-D: overloaded virtual function \u001b[01m\"cv::detail::PlaneWarper::warp\"\u001b[0m is only partially overridden in class \u001b[01m\"cv::detail::AffineWarper\"\u001b[0m\n",
            "  class AffineWarper : public PlaneWarper\n",
            "        ^\n",
            "\n",
            "\u001b[01m\u001b[0m\u001b[01m/usr/include/opencv4/opencv2/stitching/detail/blenders.hpp(100)\u001b[0m: \u001b[01;35mwarning\u001b[0m #611-D: overloaded virtual function \u001b[01m\"cv::detail::Blender::prepare\"\u001b[0m is only partially overridden in class \u001b[01m\"cv::detail::FeatherBlender\"\u001b[0m\n",
            "  class FeatherBlender : public Blender\n",
            "        ^\n",
            "\n",
            "\u001b[01m\u001b[0m\u001b[01m/usr/include/opencv4/opencv2/stitching/detail/blenders.hpp(127)\u001b[0m: \u001b[01;35mwarning\u001b[0m #611-D: overloaded virtual function \u001b[01m\"cv::detail::Blender::prepare\"\u001b[0m is only partially overridden in class \u001b[01m\"cv::detail::MultiBandBlender\"\u001b[0m\n",
            "  class MultiBandBlender : public Blender\n",
            "        ^\n",
            "\n"
          ]
        }
      ],
      "source": [
        "!nvcc `pkg-config --cflags --libs opencv4` CudaImage.cu -o CudaImage -I/usr/include/opencv4"
      ]
    },
    {
      "cell_type": "code",
      "execution_count": 12,
      "metadata": {
        "colab": {
          "base_uri": "https://localhost:8080/"
        },
        "id": "ZVxIbckpPsZu",
        "outputId": "b40932c8-c010-4578-8fcf-3b527eeb21ab"
      },
      "outputs": [
        {
          "output_type": "stream",
          "name": "stdout",
          "text": [
            "GPU Time: 0.411477 ms\n",
            "Blurred image saved as: \n",
            " - gpu_blurred_image.jpeg\n"
          ]
        }
      ],
      "source": [
        "!./CudaImage"
      ]
    }
  ],
  "metadata": {
    "accelerator": "GPU",
    "colab": {
      "gpuType": "T4",
      "provenance": []
    },
    "kernelspec": {
      "display_name": "Python 3",
      "name": "python3"
    },
    "language_info": {
      "codemirror_mode": {
        "name": "ipython",
        "version": 3
      },
      "file_extension": ".py",
      "mimetype": "text/x-python",
      "name": "python",
      "nbconvert_exporter": "python",
      "pygments_lexer": "ipython3",
      "version": "3.10.12"
    }
  },
  "nbformat": 4,
  "nbformat_minor": 0
}